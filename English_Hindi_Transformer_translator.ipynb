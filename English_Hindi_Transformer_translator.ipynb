{
  "cells": [
    {
      "cell_type": "markdown",
      "metadata": {
        "id": "view-in-github",
        "colab_type": "text"
      },
      "source": [
        "<a href=\"https://colab.research.google.com/github/nitin649/Transformer-from-Scratch/blob/main/English_Hindi_Transformer_translator.ipynb\" target=\"_parent\"><img src=\"https://colab.research.google.com/assets/colab-badge.svg\" alt=\"Open In Colab\"/></a>"
      ]
    },
    {
      "cell_type": "code",
      "execution_count": null,
      "metadata": {
        "colab": {
          "base_uri": "https://localhost:8080/"
        },
        "id": "D8Un-iPfjI6b",
        "outputId": "e744accd-a7ca-4429-c903-417bda84e5c2"
      },
      "outputs": [
        {
          "name": "stdout",
          "output_type": "stream",
          "text": [
            "Drive already mounted at /content/drive; to attempt to forcibly remount, call drive.mount(\"/content/drive\", force_remount=True).\n"
          ]
        }
      ],
      "source": [
        "from google.colab import drive\n",
        "drive.mount('/content/drive')\n"
      ]
    },
    {
      "cell_type": "code",
      "execution_count": null,
      "metadata": {
        "colab": {
          "base_uri": "https://localhost:8080/"
        },
        "id": "Zadp-w2Jpl8-",
        "outputId": "2876ab9b-67a0-4f53-8b17-50b836971b6e"
      },
      "outputs": [
        {
          "name": "stdout",
          "output_type": "stream",
          "text": [
            "/content/drive/MyDrive/Transformer_from_scratch\n"
          ]
        }
      ],
      "source": [
        "%cd /content/drive/MyDrive/Transformer_from_scratch\n",
        "#mouting this drive"
      ]
    },
    {
      "cell_type": "code",
      "execution_count": null,
      "metadata": {
        "id": "Eeo5eaIxkazc"
      },
      "outputs": [],
      "source": [
        "# !unzip /content/drive/MyDrive/Transformer_from_scratch/train.en.zip\n",
        "# !unzip /content/drive/MyDrive/Transformer_from_scratch/train.hi.zip"
      ]
    },
    {
      "cell_type": "markdown",
      "source": [
        "#Importing required files"
      ],
      "metadata": {
        "id": "Gv6pV1Mc1VAU"
      }
    },
    {
      "cell_type": "code",
      "execution_count": null,
      "metadata": {
        "id": "dljtZc15jWiJ"
      },
      "outputs": [],
      "source": [
        "%run Transformer_for_translation.ipynb\n",
        "#%run SentenceTokenization.ipynb"
      ]
    },
    {
      "cell_type": "code",
      "execution_count": null,
      "metadata": {
        "colab": {
          "base_uri": "https://localhost:8080/"
        },
        "id": "0hansUbPvNKl",
        "outputId": "a71ee592-006b-49e6-9fe5-53037291a3cf"
      },
      "outputs": [
        {
          "name": "stdout",
          "output_type": "stream",
          "text": [
            "Drive already mounted at /content/drive; to attempt to forcibly remount, call drive.mount(\"/content/drive\", force_remount=True).\n",
            "['In reply, Pakistan got off to a solid start.\\n', 'The European Union has seven principal decision-making bodies, its institutions: the European Parliament, the European Council, the Council of the European Union, the European Commission, the Court of Justice of the European Union, the European Central Bank and the European Court of Auditors.\\n']\n",
            "['जिसके जवाब में पाक ने अच्छी शुरुआत की थी.\\n', 'यूरोपीय संघ के महत्वपूर्ण संस्थानों में यूरोपियन कमीशन, यूरोपीय संसद, यूरोपीय संघ परिषद, यूरोपीय न्यायलय एवं यूरोपियन सेंट्रल बैंक इत्यादि शामिल हैं।\\n']\n",
            "जिसके जवाब में पाक ने अच्छी शुरुआत की थी.\n",
            "['ज', 'ि', 'स', 'क', 'े', ' ', 'ज', 'व', 'ा', 'ब', ' ', 'म', 'े', 'ं', ' ', 'प', 'ा', 'क', ' ', 'न', 'े', ' ', 'अ', 'च', '्', 'छ', 'ी', ' ', 'श', 'ु', 'र', 'ु', 'आ', 'त', ' ', 'क', 'ी', ' ', 'थ', 'ी', '.']\n",
            "[53, 86, 80, 46, 93, 123, 53, 77, 85, 69, 123, 71, 93, 100, 123, 67, 85, 46, 123, 65, 93, 123, 30, 51, 99, 52, 87, 123, 78, 88, 73, 88, 31, 61, 123, 46, 87, 123, 62, 87, 14]\n",
            "जिसके जवाब में पाक ने अच्छी शुरुआत की थी.\n",
            "97th percentile length hindi: 259.0\n",
            "97th percentile length English: 266.0\n",
            "Number of sentences: 100000\n",
            "Number of valid sentences: 78708\n",
            "78708 78708\n",
            "[('जिसके जवाब में पाक ने अच्छी शुरुआत की थी.', 'कांग्रेस नेता तमिलनाडु से शिवगंगा लोकसभा क्षेत्र का प्रतिनिधित्व करते हैं.', 'संबंधन प्रयास के बारे में उपयोक्ता को प्रांप्ट करें'), ('In reply, Pakistan got off to a solid start.', 'The Congress leader represents Sivaganga Lok Sabha segment from Tamil Nadu.', 'Prompt the user about connection attempts')]\n",
            "[('वित्त मंत्री ने घोषणा कि जमा बीमा और ऋण गारंटी निगम (डीआईसीजीसी) को जमा राशि बीमा का दायरा, जो इस समय 1 लाख रुपये है उसे बढ़ाकर प्रति जमाकर्ता 5 लाख रुपये करने की अनुमति प्रदान कर दी गई है।', 'इस कारण हे भाइयों, अपने बुलाए जाने, और चुन लिये जाने को सिद्ध करने का भली भांति यत्न करते जाओ, क्योंकि यदि ऐसा करोगे, तो कभी भी ठोकर न खाओगे।', 'समिति में जिला एवं सत्र न्यायाधीश, कलेक्टर, पुलिस अधीक्षक व जिला विधिक सेवा प्राधिकरण के सचिव शामिल रहते हैं।'), ('Further, the Minister announced that Deposit Insurance and Credit Guarantee Corporation (DICGC) has been permitted to increase Deposit Insurance coverage to Rs.', 'Therefore, brothers, be more diligent to make your calling and election sure. For if you do these things, you will never stumble.', 'The review committee meeting chaired by the District Judges will be attended by Collectors, SPs, Superintendents of jails and Secretary of District Legal Services Authority.')]\n",
            "[('पुलिस मौके पर मौजूद है।', 'जम्मू एवं कश्मीर विधानसभा के लिए दूसरे चरण के तहत होने वाले मतदान के लिए प्रधानमंत्री नरेंद्र मोदी भारतीय जनता पार्टी (भाजपा) के पक्ष में शुक्रवार को यहां रैलियां करेंगे।', 'और 3050एमएएच की दमदार बैटरी से लैस है।'), ('Police is present on the spot.', 'Prime Minister Narendra Modi is slated to campaign for BJP in second phase of Assembly elections in Udhampur and Poonch district of Jammu and Kashmir tomorrow', 'It has a battery backup of 3050mAh.')]\n",
            "[('\"उन्होंने कहा, \"\"बाबू रघुवंश प्रसाद जी ने भी गरीबों के लिए काम किया।\"', 'इस विमान हादसे में सभी 176 यात्रियों की मौत हो गई थी.', '\"राहुल ने कहा, \"\"मैं वही सवाल फिर से पूछता हूं।\"'), ('\"Similarly, Babu Raghuvansh Prasad Singh ji also worked for poor,\"\" he said in his address.\"', 'All 176 passengers died in the incident.', 'I will ask the same question again.')]\n",
            "[('आमंत्रित नहीं किया', 'सनी लियोन श्रृंखला में एक विशेषज्ञ की भूमिका निभाती हैं।', 'इसके बाद जब य सुख जाए तो इसे साफ पानी से धो लें।'), ('Not invited', 'Sunny Leone plays a paranormal expert in the series.', 'Then after it becomes dry, rinse off with water.')]\n"
          ]
        }
      ],
      "source": [
        "%run SentenceTokenization.ipynb"
      ]
    },
    {
      "cell_type": "code",
      "execution_count": null,
      "metadata": {
        "colab": {
          "base_uri": "https://localhost:8080/"
        },
        "id": "ULdhP8GqvSLb",
        "outputId": "05dd5d15-5d25-4baf-ba45-781dc281df8c"
      },
      "outputs": [
        {
          "name": "stdout",
          "output_type": "stream",
          "text": [
            "['<start>', '!', '\"', '#', '$', '%', '&', \"'\", '(', ')', '*', '+', ',', '-', '.', '/', '0', '1', '2', '3', '4', '5', '6', '7', '8', '9', ':', '=', '>', '?', 'अ', 'आ', 'इ', 'ई', 'उ', 'ऊ', 'ऋ', 'ऌ', 'ऍ', 'ऎ', 'ए', 'ऐ', 'ऑ', 'ऒ', 'ओ', 'औ', 'क', 'ख', 'ग', 'घ', 'ङ', 'च', 'छ', 'ज', 'झ', 'ञ', 'ट', 'ठ', 'ड', 'ढ', 'ण', 'त', 'थ', 'द', 'ध', 'न', 'ऩ', 'प', 'फ', 'ब', 'भ', 'म', 'य', 'र', 'ऱ', 'ल', 'ळ', 'व', 'श', 'ष', 'स', 'ह', 'ऺ', '़', 'ऽ', 'ा', 'ि', 'ी', 'ु', 'ू', 'ृ', 'ॅ', 'ॆ', 'े', 'ै', 'ॉ', 'ॊ', 'ो', 'ौ', '्', 'ं', 'ॐ', 'क़', 'ख़', 'ग़', 'ज़', 'ड़', 'ढ़', 'फ़', 'य़', 'ॢ', '।', '॥', '०', '१', '२', '३', '४', '५', '६', '७', '८', '९', ' ', '<pad>', '<end>']\n",
            "['<start>', '_', 'U', 'P', '=', '.', ',', 'Z', 'e', '[', '2', ' ', 'E', 'c', 'n', 'F', '-', 'K', 'a', 'h', 's', 'x', 'N', '7', 'G', 'W', 'V', '>', '&', ')', '5', '?', '\\\\', 'I', ':', 't', 'C', 'z', '~', '6', 'J', ']', '/', '#', 'r', '{', 'p', '!', 'M', '*', 'B', '8', '9', 'f', 'Q', '}', '3', 'D', 'H', 'i', 'g', '@', 'b', 'm', 'R', '%', 'L', '\"', '^', '$', '0', 'X', 'A', '4', '(', 'u', 'd', 'q', '`', 'y', 'T', \"'\", 'Y', 'S', 'o', 'v', 'k', '|', '+', 'l', '1', 'O', 'j', '<', 'w', '<pad>', '<end>']\n",
            "{'<start>': 0, '_': 1, 'U': 2, 'P': 3, '=': 4, '.': 5, ',': 6, 'Z': 7, 'e': 8, '[': 9, '2': 10, ' ': 11, 'E': 12, 'c': 13, 'n': 14, 'F': 15, '-': 16, 'K': 17, 'a': 18, 'h': 19, 's': 20, 'x': 21, 'N': 22, '7': 23, 'G': 24, 'W': 25, 'V': 26, '>': 27, '&': 28, ')': 29, '5': 30, '?': 31, '\\\\': 32, 'I': 33, ':': 34, 't': 35, 'C': 36, 'z': 37, '~': 38, '6': 39, 'J': 40, ']': 41, '/': 42, '#': 43, 'r': 44, '{': 45, 'p': 46, '!': 47, 'M': 48, '*': 49, 'B': 50, '8': 51, '9': 52, 'f': 53, 'Q': 54, '}': 55, '3': 56, 'D': 57, 'H': 58, 'i': 59, 'g': 60, '@': 61, 'b': 62, 'm': 63, 'R': 64, '%': 65, 'L': 66, '\"': 67, '^': 68, '$': 69, '0': 70, 'X': 71, 'A': 72, '4': 73, '(': 74, 'u': 75, 'd': 76, 'q': 77, '`': 78, 'y': 79, 'T': 80, \"'\": 81, 'Y': 82, 'S': 83, 'o': 84, 'v': 85, 'k': 86, '|': 87, '+': 88, 'l': 89, '1': 90, 'O': 91, 'j': 92, '<': 93, 'w': 94, '<pad>': 95, '<end>': 96}\n",
            "{'<start>': 0, '!': 1, '\"': 2, '#': 3, '$': 4, '%': 5, '&': 6, \"'\": 7, '(': 8, ')': 9, '*': 10, '+': 11, ',': 12, '-': 13, '.': 14, '/': 15, '0': 16, '1': 17, '2': 18, '3': 19, '4': 20, '5': 21, '6': 22, '7': 23, '8': 24, '9': 25, ':': 26, '=': 27, '>': 28, '?': 29, 'अ': 30, 'आ': 31, 'इ': 32, 'ई': 33, 'उ': 34, 'ऊ': 35, 'ऋ': 36, 'ऌ': 37, 'ऍ': 38, 'ऎ': 39, 'ए': 40, 'ऐ': 41, 'ऑ': 42, 'ऒ': 43, 'ओ': 44, 'औ': 45, 'क': 46, 'ख': 47, 'ग': 48, 'घ': 49, 'ङ': 50, 'च': 51, 'छ': 52, 'ज': 53, 'झ': 54, 'ञ': 55, 'ट': 56, 'ठ': 57, 'ड': 58, 'ढ': 59, 'ण': 60, 'त': 61, 'थ': 62, 'द': 63, 'ध': 64, 'न': 65, 'ऩ': 66, 'प': 67, 'फ': 68, 'ब': 69, 'भ': 70, 'म': 71, 'य': 72, 'र': 73, 'ऱ': 74, 'ल': 75, 'ळ': 76, 'व': 77, 'श': 78, 'ष': 79, 'स': 80, 'ह': 81, 'ऺ': 82, '़': 83, 'ऽ': 84, 'ा': 85, 'ि': 86, 'ी': 87, 'ु': 88, 'ू': 89, 'ृ': 90, 'ॅ': 91, 'ॆ': 92, 'े': 93, 'ै': 94, 'ॉ': 95, 'ॊ': 96, 'ो': 97, 'ौ': 98, '्': 99, 'ं': 100, 'ॐ': 101, 'क़': 102, 'ख़': 103, 'ग़': 104, 'ज़': 105, 'ड़': 106, 'ढ़': 107, 'फ़': 108, 'य़': 109, 'ॢ': 110, '।': 111, '॥': 112, '०': 113, '१': 114, '२': 115, '३': 116, '४': 117, '५': 118, '६': 119, '७': 120, '८': 121, '९': 122, ' ': 123, '<pad>': 124, '<end>': 125}\n",
            "<start> <end> <pad>\n"
          ]
        }
      ],
      "source": [
        "#from sentence tokenization file\n",
        "print(hindi_vocab)\n",
        "print(english_vocab)\n",
        "\n",
        "print(english_to_idx)\n",
        "print(hindi_to_idx)\n",
        "print(START_TOKEN , END_TOKEN ,PADDING_TOKEN)"
      ]
    },
    {
      "cell_type": "markdown",
      "source": [
        "## Initializing Transformer class object"
      ],
      "metadata": {
        "id": "4_dmRRqN1w3C"
      }
    },
    {
      "cell_type": "code",
      "execution_count": null,
      "metadata": {
        "id": "5RVeiBi2jmOQ"
      },
      "outputs": [],
      "source": [
        "import torch\n",
        "d_model = 512\n",
        "batch_size = 30\n",
        "ffn_hidden = 2048\n",
        "num_heads = 8\n",
        "drop_prob = 0.1\n",
        "num_layers = 1 #only training on single encoder and decoder block\n",
        "max_sequence_length = 280\n",
        "hindi_vocab_size = len(hindi_vocab) #from sentenceTokenization file\n",
        "transformer = Transformer(d_model,\n",
        "                          ffn_hidden,\n",
        "                          num_heads,\n",
        "                          drop_prob,\n",
        "                          num_layers,\n",
        "                          max_sequence_length,\n",
        "                          hindi_vocab_size,\n",
        "                          english_to_idx,\n",
        "                          hindi_to_idx,\n",
        "                          START_TOKEN,\n",
        "                          END_TOKEN,\n",
        "                          PADDING_TOKEN)"
      ]
    },
    {
      "cell_type": "code",
      "execution_count": null,
      "metadata": {
        "colab": {
          "base_uri": "https://localhost:8080/"
        },
        "id": "89-Fa-3s1G82",
        "outputId": "76ce8822-f398-4f9c-e641-d5a0e6686738"
      },
      "outputs": [
        {
          "data": {
            "text/plain": [
              "Transformer(\n",
              "  (encoder): Encoder(\n",
              "    (sentence_embedding): SentenceEmbedding(\n",
              "      (embedding): Embedding(97, 512)\n",
              "      (position_encoder): PositionalEncoding()\n",
              "      (dropout): Dropout(p=0.1, inplace=False)\n",
              "    )\n",
              "    (layers): SequentialEncoder(\n",
              "      (0): EncoderLayer(\n",
              "        (attention): MultiHeadAttention(\n",
              "          (qkv_layer): Linear(in_features=512, out_features=1536, bias=True)\n",
              "          (linear_layer): Linear(in_features=512, out_features=512, bias=True)\n",
              "        )\n",
              "        (norm1): LayerNormalization()\n",
              "        (dropout1): Dropout(p=0.1, inplace=False)\n",
              "        (ffn): PositionwiseFeedForward(\n",
              "          (linear1): Linear(in_features=512, out_features=2048, bias=True)\n",
              "          (linear2): Linear(in_features=2048, out_features=512, bias=True)\n",
              "          (relu): ReLU()\n",
              "          (dropout): Dropout(p=0.1, inplace=False)\n",
              "        )\n",
              "        (norm2): LayerNormalization()\n",
              "        (dropout2): Dropout(p=0.1, inplace=False)\n",
              "      )\n",
              "    )\n",
              "  )\n",
              "  (decoder): Decoder(\n",
              "    (sentence_embedding): SentenceEmbedding(\n",
              "      (embedding): Embedding(126, 512)\n",
              "      (position_encoder): PositionalEncoding()\n",
              "      (dropout): Dropout(p=0.1, inplace=False)\n",
              "    )\n",
              "    (layers): SequentialDecoder(\n",
              "      (0): DecoderLayer(\n",
              "        (self_attention): MultiHeadAttention(\n",
              "          (qkv_layer): Linear(in_features=512, out_features=1536, bias=True)\n",
              "          (linear_layer): Linear(in_features=512, out_features=512, bias=True)\n",
              "        )\n",
              "        (layer_norm1): LayerNormalization()\n",
              "        (dropout1): Dropout(p=0.1, inplace=False)\n",
              "        (encoder_decoder_attention): MultiHeadCrossAttention(\n",
              "          (kv_layer): Linear(in_features=512, out_features=1024, bias=True)\n",
              "          (q_layer): Linear(in_features=512, out_features=512, bias=True)\n",
              "          (linear_layer): Linear(in_features=512, out_features=512, bias=True)\n",
              "        )\n",
              "        (layer_norm2): LayerNormalization()\n",
              "        (dropout2): Dropout(p=0.1, inplace=False)\n",
              "        (ffn): PositionwiseFeedForward(\n",
              "          (linear1): Linear(in_features=512, out_features=2048, bias=True)\n",
              "          (linear2): Linear(in_features=2048, out_features=512, bias=True)\n",
              "          (relu): ReLU()\n",
              "          (dropout): Dropout(p=0.1, inplace=False)\n",
              "        )\n",
              "        (layer_norm3): LayerNormalization()\n",
              "        (dropout3): Dropout(p=0.1, inplace=False)\n",
              "      )\n",
              "    )\n",
              "  )\n",
              "  (linear): Linear(in_features=512, out_features=126, bias=True)\n",
              ")"
            ]
          },
          "execution_count": 35,
          "metadata": {},
          "output_type": "execute_result"
        }
      ],
      "source": [
        "transformer"
      ]
    },
    {
      "cell_type": "code",
      "execution_count": null,
      "metadata": {
        "colab": {
          "base_uri": "https://localhost:8080/"
        },
        "id": "96jEkS2A11w3",
        "outputId": "acaf890b-4ab2-4d2b-aca6-4df7285fadf9"
      },
      "outputs": [
        {
          "name": "stdout",
          "output_type": "stream",
          "text": [
            "['In reply, Pakistan got off to a solid start.', 'The Congress leader represents Sivaganga Lok Sabha segment from Tamil Nadu.'] ['जिसके जवाब में पाक ने अच्छी शुरुआत की थी.', 'कांग्रेस नेता तमिलनाडु से शिवगंगा लोकसभा क्षेत्र का प्रतिनिधित्व करते हैं.']\n"
          ]
        },
        {
          "data": {
            "text/plain": [
              "78708"
            ]
          },
          "execution_count": 36,
          "metadata": {},
          "output_type": "execute_result"
        }
      ],
      "source": [
        "print(english_sentences[:2], hindi_sentences[:2])\n",
        "dataset = TextDataset(english_sentences, hindi_sentences)#from sentenceTokenization file\n",
        "len(dataset)"
      ]
    },
    {
      "cell_type": "code",
      "execution_count": null,
      "metadata": {
        "id": "zdnt9G6s2SCh"
      },
      "outputs": [],
      "source": [
        "train_loader = DataLoader(dataset, batch_size)\n",
        "iterator = iter(train_loader)"
      ]
    },
    {
      "cell_type": "code",
      "execution_count": null,
      "metadata": {
        "colab": {
          "base_uri": "https://localhost:8080/"
        },
        "id": "7RKJOzZl2pqk",
        "outputId": "8f796b88-7cac-40f3-a98b-20aa77337d07"
      },
      "outputs": [
        {
          "name": "stdout",
          "output_type": "stream",
          "text": [
            "[('जिसके जवाब में पाक ने अच्छी शुरुआत की थी.', 'कांग्रेस नेता तमिलनाडु से शिवगंगा लोकसभा क्षेत्र का प्रतिनिधित्व करते हैं.', 'संबंधन प्रयास के बारे में उपयोक्ता को प्रांप्ट करें', 'वित्त मंत्री ने घोषणा कि जमा बीमा और ऋण गारंटी निगम (डीआईसीजीसी) को जमा राशि बीमा का दायरा, जो इस समय 1 लाख रुपये है उसे बढ़ाकर प्रति जमाकर्ता 5 लाख रुपये करने की अनुमति प्रदान कर दी गई है।', 'इस कारण हे भाइयों, अपने बुलाए जाने, और चुन लिये जाने को सिद्ध करने का भली भांति यत्न करते जाओ, क्योंकि यदि ऐसा करोगे, तो कभी भी ठोकर न खाओगे।', 'समिति में जिला एवं सत्र न्यायाधीश, कलेक्टर, पुलिस अधीक्षक व जिला विधिक सेवा प्राधिकरण के सचिव शामिल रहते हैं।', 'पुलिस मौके पर मौजूद है।', 'जम्मू एवं कश्मीर विधानसभा के लिए दूसरे चरण के तहत होने वाले मतदान के लिए प्रधानमंत्री नरेंद्र मोदी भारतीय जनता पार्टी (भाजपा) के पक्ष में शुक्रवार को यहां रैलियां करेंगे।', 'और 3050एमएएच की दमदार बैटरी से लैस है।', '\"उन्होंने कहा, \"\"बाबू रघुवंश प्रसाद जी ने भी गरीबों के लिए काम किया।\"', 'इस विमान हादसे में सभी 176 यात्रियों की मौत हो गई थी.', '\"राहुल ने कहा, \"\"मैं वही सवाल फिर से पूछता हूं।\"', 'आमंत्रित नहीं किया', 'सनी लियोन श्रृंखला में एक विशेषज्ञ की भूमिका निभाती हैं।', 'इसके बाद जब य सुख जाए तो इसे साफ पानी से धो लें।', 'भाटिया भारतीय जनता पार्टी के प्रवक्ता भी हैं।', 'इसके जरिये ही हम देश का निर्माण करेंगे और उसे महान बना पायेंगे।', 'नारियल तेल और नींबू का रस:', 'मंत्रालय ने बताया कि राष्ट्रीय खाद्य सुरक्षा कानून (एनएफएसए) की योजना व अन्य कल्याणकारी योजनाओं के तहत हर महीने करीब 55 लाख टन अनाज की आवश्यकता होती है।', 'हमारा समस्त जीवन तथा हमारी समस्त मूल सत्ता सच्चिदानन्द की प्राप्ति-रूप हो जाती है।', 'पूरी दुनिया यहां आ रही है।', 'पार्टी ने अथानी से गजानन बालचंद्र मंगसूली, कागवाड़ से भरमगौड़ा अलागौड़ा केज और गोकक विधानसभा क्षेत्रों से लखन जारकीहोली को मैदान में उतारा है।', 'भीलवाड़ा में न्यूनतम तापमान 2 डिग्री सेल्सियस दर्ज किया गया।', 'लघु-उद्योगों में कम पूंजी नियोजन पर ही रोजगार क्षमता अधिक होती है।', 'दिल्ली सरकार द्वारा संचालित राजीव गांधी सुपर स्पेशिलिटी अस्पताल में मृत्यु दर जून के शुरू में छह फीसदी थी और जुलाई के प्रारंभ में सात फीसदी हुई।', 'इंजीनियरी और सूचना विज्ञान में तीव्र परिवर्तन हो रहे हैं।', 'इन जगहों की अधिकांश सीटों पर कांग्रेस ने जीत हासिल की।', 'नई दिल्ली, 14 मई, 2010', 'इसके बाद कुछ समझौतों पर हस्ताक्षर किए जा सकते हैं।', 'अल्जीरिया में एक सैन्य विमान दुर्घटनाग्रस्त'), ('In reply, Pakistan got off to a solid start.', 'The Congress leader represents Sivaganga Lok Sabha segment from Tamil Nadu.', 'Prompt the user about connection attempts', 'Further, the Minister announced that Deposit Insurance and Credit Guarantee Corporation (DICGC) has been permitted to increase Deposit Insurance coverage to Rs.', 'Therefore, brothers, be more diligent to make your calling and election sure. For if you do these things, you will never stumble.', 'The review committee meeting chaired by the District Judges will be attended by Collectors, SPs, Superintendents of jails and Secretary of District Legal Services Authority.', 'Police is present on the spot.', 'Prime Minister Narendra Modi is slated to campaign for BJP in second phase of Assembly elections in Udhampur and Poonch district of Jammu and Kashmir tomorrow', 'It has a battery backup of 3050mAh.', '\"Similarly, Babu Raghuvansh Prasad Singh ji also worked for poor,\"\" he said in his address.\"', 'All 176 passengers died in the incident.', 'I will ask the same question again.', 'Not invited', 'Sunny Leone plays a paranormal expert in the series.', 'Then after it becomes dry, rinse off with water.', 'She is also the national spokesperson of BJP.', 'By this only, we can build our country and make it great again.', 'Coconut oil and lemon juice pack:', 'About 55 lakh tonnes of foodgrains are required monthly under the National Food Security Act (NFSA) and other welfare schemes.', 'All our life as well as all our essential being is transformed into the possession of Sachchidananda.', 'The whole world is coming here.', 'The party has fielded Gananan Balachandra Mangasuli from Athani, Bharamgouda Alagouda Kage from Kagwad, and Lakhan Jarkiholi from Gokak Assembly constituencies.', 'The minimum temperature was at 2 degrees Celsius.', 'Small scale industries have large employment potential with small investment.', 'At Rajiv Gandhi Super Specialty Hospital, the death rate was 6% in early June and 7% in early July.', 'Biotechnology, along with rapid advances in engineering and informatics, is radically changing some of the fundamental concepts regarding living organisms.', 'Congress has won most of these seats.', 'New Delhi, 14th May, 2010', 'Several agreements are expected to be signed after the talks.', 'Algeria military plane crash')]\n",
            "[('ऊपर-नीचे', 'तो वो मिलने आईं।', 'शायद आपमें से कई लोग दो विक्रेताओं (सेल्समेन) की कहानी जानते हैं जो १९०० सदी में अफ्रीका गए.', 'जनगणना 2021 के संबंध में 2018 में किए जाने वाले आवश्यक कार्यों पर भी चर्चा की गई।', '(मगर जब किताब आयी) तो उन लोगों ने उससे इन्कार किया ख़ैर अनक़रीब (उसका नतीजा) उन्हें मालूम हो जाएगा', 'मैं उस पर टिप्पणी नहीं करूंगा।', 'तेजस्वी का नीतीश सरकार पर बड़ा आरोप', 'क्या वो आतंकी नहीं था।', 'फिर सनान, हदाशा, मिगदलगाद,', 'इससे उधारी बढ़ती जाती है।', 'हैंडिल पर वह हाथ एक बार फिर घूमा।', 'सेहतमंद रहने के लिए सुबह का नाश्ता बहुत जरूरी होता है।', 'दोस्तों, जब हम पृथ्वी के बारे में बात करते हैं, तो आप यह भी देख रहे होंगे कि आज आईएसए, अर्थात अंतर्राष्ट्रीय सौर गठबंधन एक बड़ा वैश्विक आंदोलन बन रहा है।', 'इसके अलावा सलमान खान, सलीम खान, हेमा मालिनी, धर्मेंद्र, शत्रुघ्न सिन्हा आदि बॉलीवुड सितारे इस समारोह में पहुंचे।', 'काहिल ने कहा, यह शानदार था।', 'मौके पर पहुंची पुलिस ने तफ्तीश की।', 'राष्ट्र पति ट्रंप ने कहा कि ईश्वर के किसी भी संतान का अंजाम इतना खौफनाक नहीं होना चाहिए।', 'लेकिन पूरी तरह से खत्म नहीं हुई.', 'क्या है जेसीपीओए?', 'टीम इंडिया के कप्तान विराट कोहली और उनकी पत्नी व बॉलीवुड स्टार अनुष्का शर्मा ने शादी के बाद अपनी पहली दिवाली खास अंदाज में मनाई।', 'उस साल, कोलकर के एक दल ने राजा को लगभग पकड़ ही लिया था, लेकिन एक कुरुम्बा गार्ड के समय पर चेतावनी देने से वे बच गये।', 'इस कारण चोटें लगी थीं।', 'मुख्यमंत्री प्रेम सिंह तमांग सहित 15 उम्मीदवारों के भाग्य का फैसला कल होगा।', 'मुंबई, 19 जून (आईएएनएस)।', 'हींग, राई, कढ़ी पत्ता, अदरक प्यूरी व हरी मिर्च डालें।', 'ओडिशा के मुख्यमंत्री नवीन पटनायक ने आर्सेलरमित्तल समूह के चेयरमैन लक्ष्मी मित्तल से राज्य में निवेश पर वीडियो कॉन्फ्रें सिंग के जरिए चर्चा की।', 'घमंडचंद के समय में कांगड़ा का प्रसिद्ध किला मुस्लिम सूबेदार नवाब सैफ हिमाचल प्रदेश अली खान के हाथों में रहा जो अक्सर परिस्थितियों के अनुसार दिल्ली और काबुल के प्रति बारी बारी अपनी निष्ठा जताता रहता था।', 'एडुल्जी समिति के गठन के खिलाफ थी और चाहती थी कि आरोपों के आधार पर जौहरी को बर्खास्त किया जाए जबकि राय का मानना था कि प्राकृतिक न्याय के सिद्धांत के अनुसार किसी कार्रवाई से पहले जांच जरूरी है.', 'इस निर्णय से आर्थिक इस्तेमाल के लिए बांस को काटने संबंधी अनुमति लेने की आवश्यकता नहीं होगी। इस फैसले को प्रधानमंत्री श्री नरेन्द्र मोदी की अध्यक्षता में सम्पन्न होने वाली मंत्रिमंडल की बैठक में मंजूरी दी गई।', 'पवन कुमार गुप्ता के पिता हीरा लाल गुप्ता की शिकायत में कुछ हालिया खबरों का जिक्र किया गया, जिनमें आरोप लगाया गया कि चश्मदीद ने कई समाचार चैनलों पर इंटरव्यू के लिए पैसे लिये।'), ('up and down', 'Then they came to meet me.', 'Probably a lot of you know the story of the two salesmen who went down to Africa in the 1900s.', 'In regard to the Census 2021, the activities required to be undertaken in 2018 were discussed.', 'They therefore denied it, so they will soon come to know.', 'I wont comment on it.', 'Tejashwi slams Nitish government', 'Was he not a terrorist?', 'Zenan, and Hadashah, and Migdal-gad,', 'This increases borrowing.', 'The hand tried the knob again.', 'Sleep is very important in order to be healthy.', 'Friends, when we talk about Planet, you are also observing that today ISA, i.e. International Solar Alliance is becoming a big global movement.', 'Bollywood Celebrities like Salman Khan, Shilpa Shetty Kundra, R Madhavan and others were present at the event.', 'That was nice of him, Cahill said.', 'Police reached the spot and took up investigation.', '\"No child of God should ever suffer such horror,\"\" Trump said.\"', 'But all was not over.', 'What is JCPOA?', 'Anushka Sharma and Virat Kohli celebrated their first Diwali together post their wedding.', 'That year, a party of Kolkar nearly caught Raja but he escaped thanks to timely warning of a Kurumba guard.', 'Due to this, he got injuries.', 'The fate of 15 candidates would be decided tomorrow.', \"Mumbai, June 5(ANI): It's official\", 'Add onions, green chillies, coriander, ginger and garlic.', 'Odisha Chief Minister Naveen Patnaik held discussion with ArcelorMittal Group Chairman Lakshmi Mittal on investment in the state via video conferencing.', \"During Ghamand Chand 's time the famous Kangra fort had remained in the hands of the Muslim governor, Nawab Saif Ali Khan, who frequently alternated his allegiance between Delhi and Kabul as dictated by circumstances.\", '\"Edulji was against the formation of the panel and wanted Johri to be sacked on the basis of the allegations while Rai felt that \"\"principles of natural justice\"\" demanded an investigation before any action.\"', 'With a view to promote Port led development, the Sagarmala Programme was approved by the Cabinet on 25-03-2015.', 'The complaint, filed by Heera Lal Gupta, father of Pawan Kumar Gupta, cited some recent media reports which alleged that witness charged money to appear for interviews on various news channels, advocate A P Singh said.')]\n",
            "[('नियमित रूप से व्यायाम आदि को दिनचर्या का हिस्सा बनाने का।', 'लोगों की भीड जमा होने लगी।', 'यह एक प्रकार की चुनौती है कि किस प्रकार एक अच्छे विचार का विवेचन करें.', 'इसलिए, तापमान यह नहीं जानता कि कौन अच्छा है और कौन है।', 'फिल्म की कहानी काफी रोचक व दिलचस्प है।', 'पटकथा : श्याम बेनेगल', 'किसी बैंक या व्यक्ति से ऋण प्राप्त कर सकती है.', 'कर रहे हैं.', 'अगला जो हुआ वह ये कि मिस्टर इंडिया मेरे बगल में बैठे हैं और मैं उनके साथ काम कर रही हूं।', 'बीते दिनों रोनाल्डो ने जोसेफ बिकान के 759 गोलों के रिकॉर्ड को पीछे छोड़ दिया।', 'बाद में उसे अस्पताल ले जाया गया और इलाज किया गया।', 'उन्हें तकनीक से दूर रहना चाहिए और पढ़ाई पर ध्यान देना चाहिए.', 'डीजल-पेट्रोल की बढ़ी कीमतों की वजह से लोग त्रस्त हैं।', '\"सिवाय उनके जो तेरे चुने हुए बन्दे होंगे। \"\"\"', 'कराधान के दायित्व से बचने की कार्रवाई।', 'तो यह अच्छी बात है।', 'राजीव गोयल को एएफएस का सीएफओ नियुक्त किया जाएगा।', 'उन्हें इंडियन प्रीमियर लीग के दौरान मामूली हैमस्ट्रिंग चोट लग गयी थी।', 'प्रवर्तन निदेशालय के मुताबिक हरियाणा के पंचकुला स्थित प्लाट को जब्त किया गया है जिसे हरियाणा के पूर्व मुख्यमंत्री भूपेंद्र सिंह हुड्डा की ओर से एसोसिएटेड जर्नल्स लिमिटेड को यह संपत्ति आवंटित की गई थी।', 'भारत एपीजी और एफएटीएफ दोनों का सदस्य है।', 'मंत्रालय ने कहा कि उड़े देश का आम नागरिक यानी उड़ान योजना के तहत अब तक कुल 766 मार्गों को मंजूरी दी गई है।', 'किन्तु जो लोग आख़िरत पर ईमान नहीं रखते वे इस मार्ग से हटकर चलना चाहते है', 'एनीमिया एवं अन्य बीमारियां विशेष रूप से महिलाओं और युवा लड़कियों में बहुत थी।', 'हादसे के बाद से अज्ञात वाहन चालक वाहन को लेकर मौके से फरार हो गया।', 'प्रधानमंत्री श्री नरेन्द्र मोदी ने कर्नाटक के मुख्यमंत्री श्री बी एस येदियुरप्पा के साथ राज्य के विभिन्न हिस्सों में बारिश और बाढ़ की स्थिति पर बातचीत की।', 'ऐसे में उसे अभी लंदन की जेल में दिन गुजरने होंगे.', 'यह ध्यान में रखते हुए कि फसल खंड जीवीए कंप्यूटेशन का एक प्रमुख घटक हैं, इसका प्रदर्शन बहुत महत्वपूर्ण है।', 'इन दोनों अवस्थाओं में आराम पहुंचाने के लिये आपका डाक्टर आप को दर्द नाशक अन्य दवाईयों का नुस्खा लिख कर दे सकता है या सर्जन या अन्य विशेषग्य से आप की सहायता करने को कह सकता है.', 'सूचना प्रौद्योगिकी मंत्री प्रसाद ने हालांकि कहा कि सिर्फ एक चुनौती पेश करने के कारण सोशल मीडिया को प्रतिबंधित करना बुद्धिमानी नहीं होगी क्योंकि सोशल मीडिया आम आदमी की जानकारी बढ़ाकर और उसकी प्रश्न करने की क्षमता बढ़ाकर उसे सशक्त भी कर रहा है।', 'डेटा अखंडता और सुरक्षा इलेक्ट्रॉनिक कॉमर्स के लिए बहुत गर्म और अहम मुद्दे हैं।'), ('Make exercise a part of your daily routine.', 'People started gathering.', 'This, in a way, is one of the challenges of how to interpret a really good idea.', 'So, temperature does not know who is good and who is bad right.', 'The films premise is both interesting and exciting.', 'Director: Shyam Benegal', 'Obtain loans from a bank or an individual.', 'are doing.', 'The next thing happening is Mr. India sitting next to me and I am working with him.', \"Recently, Ronaldo equalled Josef Bican's all-time highest goal record of 759 strikes.\", 'He was later taken to a hospital and treated.', 'They should stay away from the technology and spend more time studying.', 'People are in distress due to skyrocketing prices of diesel and petrol.', 'except the devoted amongst Your worshippers.', 'The act of avoiding the liability of taxation.', 'So thats a good thing.', 'Rajeev Goyal will be appointed as CFO of AFS.', 'He had sustained the shoulder injury during his short stint in the Indian Premier League (IPL).', 'Earlier on Wednesday, the Enforcement Directorate had issued a provisional attachment order for the plot in Panchkula, Haryana which was illegally allotted to the Associated Journals Limited, by Bhupinder Singh Hooda.', 'India is a member of the FATF as well as the APG.', 'The Ministry said, overall 766 routes have been sanctioned so far under the UDAN scheme.', 'but those who disbelieve in the Everlasting Life deviate from the Path.', 'There is high prevalence of Anaemia and other ailments, especially among women and adolescent girls.', 'The owner of the unidentified vehicle fled from the spot after the accident.', 'The Prime Minister, Shri Narendra Modi interacted with Karnataka Chief Minister, Shri B S Yediyurappa on the rainfall and flood situation in various parts of Karnataka.', 'He is at present lodged in a prison in London.', 'Considering that crop segment constitutes a dominant component of the GVA computation, its performance is very critical.', 'In both conditions your doctor can prescribe you some analgesics or other medicines, or he can refer you to another specialist or surgeon.', 'However, Prasad, who is also the Information Technology Minister, said it would not be wise to restrict the social media just because of a challenge, as the social media has empowered the common man by increasing his access to information and power to ask questions.', 'Data integrity and security are pressing issues for electronic commerce.')]\n",
            "[('और (मुसलमानों) ये लोग ख़ुदा की क़सम खाएंगे फिर वह तुममें ही के हैं हालॉकि वह लोग तुममें के नहीं हैं मगर हैं ये लोग बुज़दिल हैं', 'उन्होंने अपने दोस्तों के साथ की फोटोज इंस्टाग्राम स्टोरी में शेयर की।', 'मई 2011 से एफसीआरए प्रभावी', 'बीते बुधवार को गांव के रहने वाले दबंग सोनू, अभिषेक और देवेन्द्र ने दलित परिवार पर ताबड़तोड़ फायरिंग कर दी थी।', 'उच्च-तुंगता पर कीट जीवन इस मायने में भी अद्भुत है कि वहां बिना पंख के और न उड़ने वाले कीटों की प्रमुखता है.', 'वह नि:संदेह सर्वश्रेष्ठ है।', 'बाद में इस रिपोर्ट को सोशल मीडिया में भी व्यापक रूप से प्रसारित किया गया।', 'मिस्र और रोम में गुलामों के साथ बहुत बुरा सलूक किया जाता था ।', 'इसका प्राथमिक उपचार एपिनेफ्रीन है।', 'क्वॉलिटी टाइम', 'इस सब के पीछे अतिमहत्वपूर्ण लक्ष्य यह है कि देश के शहरी क्षेत्रों के समान ग्रामीण कृषि समुदायों को बैंकिंग की सभी नई सुविधाओं का इस्तेमाल करने में सक्षम बनाना है ताकि एक नकदीरहित वातावरण का निर्माण किया जा सके.', 'क्या कहा!', 'इसलिए यहोवा जब सुधारने के लिए अनुशासन देता है, तो उसका मकसद सिर्फ दंड देना नहीं होता ।', 'मलेशिया अपने पड़ोसी देश इंडोनेशिया के बाद दूसरा सबसे बड़ा पाम तेल उत्पादक है।', 'जबकि, जिस क्षण आपको वह क्षण मिला, उस उच्च अम्ल में घुलनशील और स्थिर स्थिर प्रोटीन थे, जो दूध के झाग के लिए जिम्मेदार हैं।', 'चीनी के बिना आप क्या करेंगे?', 'जब उसे उसके गुंडे होने की बात पता चलती है तो वो उसके साथ रिश्ता तोड़ देती है।', 'महिला की प्रसव से पहले मौत', 'चीन का तर्क है कि भारत एनएसजी में प्रवेश पाने की योग्यता नहीं रखता, क्योंकि उसने एनपीटी (परमाणु अप्रसार संधि) पर हस्ताक्षर नहीं किए हैं।', 'घर पर पेंट किया हुआ था जिसका मतलब है कि लोग लंबे समय से वहां रह रहे थे।', 'बैठक में शीला कैबिनेट के सभी छह मंत्री मौजूद थे.', 'आगे भी मैं आता रहूंगा।', 'ऐसे में अभी पुलिस जांच की जा रही है।', 'इसके बाद उनकी स्थिति में सुधार आने लगा था.', 'वह उसके साथ किराये के मकान में रहती थी।', 'साथ ही परिजनों और रिश्तेदारों को घटना की सूचना दे दी है.', 'इसमें एक तेज रफ्तार ट्रेन पटरी पार करहि गाड़ी से टकरा गई।', 'इससे कीमतों में आगे और कमी लाने में मदद मिलेगी।', 'फिल्म में उनके अपोजिट सुशांत सिंह राजपूत नजर आए थे.', 'मैं तुम्हें इतना प्यार करता हूं कि अगर तुम जीवित न रहीं तो भी तुम मेरे लिए जीवित रहोगी।'), ('And they swear by Allah that they are from among you while they are not from among you. but they are a people who are afraid.', 'She shared pictures on her Instagram stories.', 'FCRA Comes into Force W.E.F May 2011', 'On Wednesday morning, Sonu Singh, Devendra Singh and Abhishek Singh came to the village.', 'The insect life at high elevations is also remarkable for the pronounced predominance of wingless and flightless forms.', \"There's no doubt he's the best.\", 'Later this report was also circulated widely in social media.', 'Many Egyptian and Roman slaves were harshly exploited.', 'The primary treatment is epinephrine.', 'Quality Time', 'The overarching goal is to develop cash - less eco system by enabling the farming community to avail all new banking facilities at par with urban area of the country.', \"You don 't say?\", 'However, in each case, Jehovahs discipline is motivated by love, and its goal is to benefit the recipient.', 'Malaysia is the worlds second-largest producer of palm oil after Indonesia.', 'Whereas, the moment you got the moment you got that high acid soluble and heat stable proteins, which are responsible for the foaming of the milk.', 'WHAT would we do without sugar?', 'Every time she has to pass him, he and his friends grope her.', 'Woman dies during childbirth', \"China has opposed India's bid to get an NSG membership saying India was yet to sign the NPT.\", 'The house is painted which means that people were living there for long.', 'The meeting was also attended by six Shiv Sena ministers.', 'I will keep on coming.', 'A police investigation into the matter is currently underway.', 'Thereafter, his condition began to deteriorate.', 'He was residing in a rented house there.', 'Her family and relatives were informed about the incident.', 'A speeding train has hit the car when it was about to cross the railway track.', 'This would help reduce the price.', 'In this movie, she was seen along with Sushant Singh Rajput.', 'I love you so dearly that even if you are dead, you will be alive to me.')]\n"
          ]
        }
      ],
      "source": [
        "for batch_num, batch in enumerate(iterator):\n",
        "    print(batch)\n",
        "    if batch_num > 2:\n",
        "        break"
      ]
    },
    {
      "cell_type": "markdown",
      "source": [
        "## Loss and Optimizer"
      ],
      "metadata": {
        "id": "4oyNWwPx15xT"
      }
    },
    {
      "cell_type": "code",
      "execution_count": null,
      "metadata": {
        "colab": {
          "base_uri": "https://localhost:8080/"
        },
        "id": "zKuWPyHN2vEA",
        "outputId": "0cc927b0-cb5c-4424-d7b1-f1bd3eb09807"
      },
      "outputs": [
        {
          "name": "stdout",
          "output_type": "stream",
          "text": [
            "cuda\n"
          ]
        }
      ],
      "source": [
        "from torch import nn\n",
        "\n",
        "criterian = nn.CrossEntropyLoss(ignore_index=hindi_to_idx[PADDING_TOKEN],\n",
        "                                reduction='none')\n",
        "\n",
        "# When computing the loss, we are ignoring cases when the label is the padding token\n",
        "for params in transformer.parameters():\n",
        "    if params.dim() > 1:\n",
        "        nn.init.xavier_uniform_(params)\n",
        "\n",
        "optim = torch.optim.Adam(transformer.parameters(), lr=1e-4)\n",
        "device = torch.device('cuda') if torch.cuda.is_available() else torch.device('cpu')\n",
        "print(device)"
      ]
    },
    {
      "cell_type": "markdown",
      "source": [
        "## Training and translation"
      ],
      "metadata": {
        "id": "IJfBn7Ef1-Cy"
      }
    },
    {
      "cell_type": "code",
      "execution_count": null,
      "metadata": {
        "colab": {
          "background_save": true,
          "base_uri": "https://localhost:8080/"
        },
        "id": "Zsec-lBG3BKi",
        "outputId": "2ca670c7-7dfb-4e69-ad1c-7d52fb2854a8"
      },
      "outputs": [
        {
          "name": "stdout",
          "output_type": "stream",
          "text": [
            "Epoch 0\n",
            "Iteration 0 : 1.2597270011901855\n",
            "English: In reply, Pakistan got off to a solid start.\n",
            "Hindi Translation: जिसके जवाब में पाक ने अच्छी शुरुआत की थी.\n",
            "Hindi Prediction: इबसके लनाब नें पाकिके कप्छी पुरूआत नी ही।\n",
            "Evaluation translation (should we go to the mall?) : ('क्या करने के लिए क्या करेंगे?<end>',)\n",
            "-------------------------------------------\n",
            "Iteration 300 : 1.2428276538848877\n",
            "English: Candidates would need their application number and date of birth to download their admit cards.\n",
            "Hindi Translation: उम्मीदवारों को एडमिट कार्ड डाउनलोड करने के लिए रजिस्ट्रेशन नंबर या मोबाइल नंबर और जन्म तिथि सबमिट करनी होगी.\n",
            "Hindi Prediction: उन्मीदवार ं के नकििट केर्ड काटनलोड केने के लिए पििस्ट्रेशन केबर औह पादाइट केबर कर उातम कथथि केकेत करने चैगी।\n",
            "Evaluation translation (should we go to the mall?) : ('क्या आप समय करेंगे?<end>',)\n",
            "-------------------------------------------\n",
            "Iteration 600 : 1.348862886428833\n",
            "English: My father is not well.\n",
            "Hindi Translation: मेरे पिता की तबीयत ठीक नहीं रहती।\n",
            "Hindi Prediction: मेरी माता का मर नत की  हहीं हहेी \n",
            "Evaluation translation (should we go to the mall?) : ('क्या करने के लिए किस करेंगे?<end>',)\n",
            "-------------------------------------------\n",
            "Iteration 900 : 1.3271962404251099\n",
            "English: After conducting a technical analysis of the same we traced him to Gujrat.\n",
            "Hindi Translation: उसी का टेक्निकल एनालिसिस करने के बाद हमने उसे गुजरात में ट्रेस किया।\n",
            "Hindi Prediction: इने केरक्स्स र  कक्लास स्पे्े के बाद दमले कने गुजरात कें क्रकन किया \n",
            "Evaluation translation (should we go to the mall?) : ('क्या करने के लिए क्या करेंगे?<end>',)\n",
            "-------------------------------------------\n",
            "Iteration 1200 : 1.3028521537780762\n",
            "English: JNU student leader and activist Shehla Rashid announced her joining of Faesals party on the occasion.\n",
            "Hindi Translation: इस दौरान जेएनयू की छात्र नेता और कार्यकर्ता शहला राशिद ने फैसल की पार्टी में शामिल होने का ऐलान किया।\n",
            "Hindi Prediction: जस मौरान केयनयू के सात्रोऔे ा हर रार्यक््ता काी लहाहिद के कासलेकि स्र्टी कें हामिल हो े के आसान केया \n",
            "Evaluation translation (should we go to the mall?) : ('क्या करना होगा?<end>',)\n",
            "-------------------------------------------\n",
            "Iteration 1500 : 1.314156413078308\n",
            "English: They have aroused our wrath,\n",
            "Hindi Translation: और उन लोगों ने हमें सख्त गुस्सा दिलाया है\n",
            "Hindi Prediction: उर कन्लोगों के कमें के्त हुम्सा हिय  ांगै।कककससकसबबकसककबककसससबसससससससबककससससससबसससककसबबसकसकसकससककशकबसककसबससससकसकसससकसससककसससकबसककसससबबकबकबककबककसकबसससससससकससबकससससकसकककससकसससकससबसकससबसससससससशकबसससससककससबकसससकबकबससससससकसबसबसककककसककवबककककसकतककसकककसतसससससशककककककककससकककसकसककसकसकककककसस\n",
            "Evaluation translation (should we go to the mall?) : ('क्या करने के लिए कि क्या है?<end>',)\n",
            "-------------------------------------------\n",
            "Iteration 1800 : 1.3414329290390015\n",
            "English: A Defence Ministry release said the apprehended boats had fish illegally caught from the Indian Exclusive Economic Zone.\n",
            "Hindi Translation: रक्षा मंत्रालय की विज्ञप्ति में कहा गया है कि नौकाओं में भारतीय विशिष्ट आर्थिक क्षेत्र से अवैध रूप से पकड़ी गयीं मछलियां रखी हुई थी।\n",
            "Hindi Prediction: वा्षाममंत्रालय ने पिद्ञा्त  नंं पहा कया है कि भेव रं कें भारत य सिशेष्ट कय्थिक वेषेत्र मे पधसध दहप से पह़्न कईी ।हिलीया  हखा हैआ ही।\n",
            "Evaluation translation (should we go to the mall?) : ('क्या करने के लिए कि क्या करेंगे?<end>',)\n",
            "-------------------------------------------\n"
          ]
        },
        {
          "name": "stderr",
          "output_type": "stream",
          "text": [
            "ERROR:root:Internal Python error in the inspect module.\n",
            "Below is the traceback from this internal error.\n",
            "\n",
            "ERROR:root:Internal Python error in the inspect module.\n",
            "Below is the traceback from this internal error.\n",
            "\n",
            "ERROR:root:Internal Python error in the inspect module.\n",
            "Below is the traceback from this internal error.\n",
            "\n"
          ]
        },
        {
          "name": "stdout",
          "output_type": "stream",
          "text": [
            "Traceback (most recent call last):\n",
            "  File \"/usr/local/lib/python3.10/dist-packages/IPython/core/interactiveshell.py\", line 3553, in run_code\n",
            "    exec(code_obj, self.user_global_ns, self.user_ns)\n",
            "  File \"<ipython-input-52-5361102ac30e>\", line 17, in <cell line: 8>\n",
            "    hindi_predictions = transformer(english_batch,\n",
            "  File \"/usr/local/lib/python3.10/dist-packages/torch/nn/modules/module.py\", line 1501, in _call_impl\n",
            "    return forward_call(*args, **kwargs)\n",
            "  File \"<ipython-input-27-2e6567a33e02>\", line 357, in forward\n",
            "    out = self.decoder(x, y, decoder_self_attention_mask, decoder_cross_attention_mask, start_token=dec_start_token, end_token=dec_end_token)\n",
            "  File \"/usr/local/lib/python3.10/dist-packages/torch/nn/modules/module.py\", line 1501, in _call_impl\n",
            "    return forward_call(*args, **kwargs)\n",
            "  File \"<ipython-input-27-2e6567a33e02>\", line 315, in forward\n",
            "    y = self.sentence_embedding(y, start_token, end_token)\n",
            "  File \"/usr/local/lib/python3.10/dist-packages/torch/nn/modules/module.py\", line 1501, in _call_impl\n",
            "    return forward_call(*args, **kwargs)\n",
            "  File \"<ipython-input-27-2e6567a33e02>\", line 85, in forward\n",
            "    x = self.batch_tokenize(x, start_token, end_token)\n",
            "  File \"<ipython-input-27-2e6567a33e02>\", line 82, in batch_tokenize\n",
            "    return tokenized.to(get_device())\n",
            "KeyboardInterrupt\n",
            "\n",
            "During handling of the above exception, another exception occurred:\n",
            "\n",
            "Traceback (most recent call last):\n",
            "  File \"/usr/local/lib/python3.10/dist-packages/IPython/core/interactiveshell.py\", line 2099, in showtraceback\n",
            "    stb = value._render_traceback_()\n",
            "AttributeError: 'KeyboardInterrupt' object has no attribute '_render_traceback_'\n",
            "\n",
            "During handling of the above exception, another exception occurred:\n",
            "\n",
            "Traceback (most recent call last):\n",
            "  File \"/usr/local/lib/python3.10/dist-packages/IPython/core/ultratb.py\", line 1101, in get_records\n",
            "    return _fixed_getinnerframes(etb, number_of_lines_of_context, tb_offset)\n",
            "  File \"/usr/local/lib/python3.10/dist-packages/IPython/core/ultratb.py\", line 248, in wrapped\n",
            "    return f(*args, **kwargs)\n",
            "  File \"/usr/local/lib/python3.10/dist-packages/IPython/core/ultratb.py\", line 281, in _fixed_getinnerframes\n",
            "    records = fix_frame_records_filenames(inspect.getinnerframes(etb, context))\n",
            "  File \"/usr/lib/python3.10/inspect.py\", line 1662, in getinnerframes\n",
            "    frameinfo = (tb.tb_frame,) + getframeinfo(tb, context)\n",
            "  File \"/usr/lib/python3.10/inspect.py\", line 1620, in getframeinfo\n",
            "    filename = getsourcefile(frame) or getfile(frame)\n",
            "  File \"/usr/lib/python3.10/inspect.py\", line 829, in getsourcefile\n",
            "    module = getmodule(object, filename)\n",
            "  File \"/usr/lib/python3.10/inspect.py\", line 861, in getmodule\n",
            "    file = getabsfile(object, _filename)\n",
            "  File \"/usr/lib/python3.10/inspect.py\", line 845, in getabsfile\n",
            "    return os.path.normcase(os.path.abspath(_filename))\n",
            "  File \"/usr/lib/python3.10/posixpath.py\", line 384, in abspath\n",
            "    cwd = os.getcwd()\n",
            "OSError: [Errno 107] Transport endpoint is not connected\n",
            "Traceback (most recent call last):\n",
            "  File \"/usr/local/lib/python3.10/dist-packages/IPython/core/interactiveshell.py\", line 3553, in run_code\n",
            "    exec(code_obj, self.user_global_ns, self.user_ns)\n",
            "  File \"<ipython-input-52-5361102ac30e>\", line 17, in <cell line: 8>\n",
            "    hindi_predictions = transformer(english_batch,\n",
            "  File \"/usr/local/lib/python3.10/dist-packages/torch/nn/modules/module.py\", line 1501, in _call_impl\n",
            "    return forward_call(*args, **kwargs)\n",
            "  File \"<ipython-input-27-2e6567a33e02>\", line 357, in forward\n",
            "    out = self.decoder(x, y, decoder_self_attention_mask, decoder_cross_attention_mask, start_token=dec_start_token, end_token=dec_end_token)\n",
            "  File \"/usr/local/lib/python3.10/dist-packages/torch/nn/modules/module.py\", line 1501, in _call_impl\n",
            "    return forward_call(*args, **kwargs)\n",
            "  File \"<ipython-input-27-2e6567a33e02>\", line 315, in forward\n",
            "    y = self.sentence_embedding(y, start_token, end_token)\n",
            "  File \"/usr/local/lib/python3.10/dist-packages/torch/nn/modules/module.py\", line 1501, in _call_impl\n",
            "    return forward_call(*args, **kwargs)\n",
            "  File \"<ipython-input-27-2e6567a33e02>\", line 85, in forward\n",
            "    x = self.batch_tokenize(x, start_token, end_token)\n",
            "  File \"<ipython-input-27-2e6567a33e02>\", line 82, in batch_tokenize\n",
            "    return tokenized.to(get_device())\n",
            "KeyboardInterrupt\n",
            "\n",
            "During handling of the above exception, another exception occurred:\n",
            "\n",
            "Traceback (most recent call last):\n",
            "  File \"/usr/local/lib/python3.10/dist-packages/IPython/core/interactiveshell.py\", line 2099, in showtraceback\n",
            "    stb = value._render_traceback_()\n",
            "AttributeError: 'KeyboardInterrupt' object has no attribute '_render_traceback_'\n",
            "\n",
            "During handling of the above exception, another exception occurred:\n",
            "\n",
            "Traceback (most recent call last):\n",
            "  File \"/usr/local/lib/python3.10/dist-packages/IPython/core/interactiveshell.py\", line 3473, in run_ast_nodes\n",
            "    if (await self.run_code(code, result,  async_=asy)):\n",
            "  File \"/usr/local/lib/python3.10/dist-packages/IPython/core/interactiveshell.py\", line 3575, in run_code\n",
            "    self.showtraceback(running_compiled_code=True)\n",
            "  File \"/usr/local/lib/python3.10/dist-packages/IPython/core/interactiveshell.py\", line 2101, in showtraceback\n",
            "    stb = self.InteractiveTB.structured_traceback(etype,\n",
            "  File \"/usr/local/lib/python3.10/dist-packages/IPython/core/ultratb.py\", line 1367, in structured_traceback\n",
            "    return FormattedTB.structured_traceback(\n",
            "  File \"/usr/local/lib/python3.10/dist-packages/IPython/core/ultratb.py\", line 1267, in structured_traceback\n",
            "    return VerboseTB.structured_traceback(\n",
            "  File \"/usr/local/lib/python3.10/dist-packages/IPython/core/ultratb.py\", line 1124, in structured_traceback\n",
            "    formatted_exception = self.format_exception_as_a_whole(etype, evalue, etb, number_of_lines_of_context,\n",
            "  File \"/usr/local/lib/python3.10/dist-packages/IPython/core/ultratb.py\", line 1082, in format_exception_as_a_whole\n",
            "    last_unique, recursion_repeat = find_recursion(orig_etype, evalue, records)\n",
            "  File \"/usr/local/lib/python3.10/dist-packages/IPython/core/ultratb.py\", line 382, in find_recursion\n",
            "    return len(records), 0\n",
            "TypeError: object of type 'NoneType' has no len()\n",
            "\n",
            "During handling of the above exception, another exception occurred:\n",
            "\n",
            "Traceback (most recent call last):\n",
            "  File \"/usr/local/lib/python3.10/dist-packages/IPython/core/interactiveshell.py\", line 2099, in showtraceback\n",
            "    stb = value._render_traceback_()\n",
            "AttributeError: 'TypeError' object has no attribute '_render_traceback_'\n",
            "\n",
            "During handling of the above exception, another exception occurred:\n",
            "\n",
            "Traceback (most recent call last):\n",
            "  File \"/usr/local/lib/python3.10/dist-packages/IPython/core/ultratb.py\", line 1101, in get_records\n",
            "    return _fixed_getinnerframes(etb, number_of_lines_of_context, tb_offset)\n",
            "  File \"/usr/local/lib/python3.10/dist-packages/IPython/core/ultratb.py\", line 248, in wrapped\n",
            "    return f(*args, **kwargs)\n",
            "  File \"/usr/local/lib/python3.10/dist-packages/IPython/core/ultratb.py\", line 281, in _fixed_getinnerframes\n",
            "    records = fix_frame_records_filenames(inspect.getinnerframes(etb, context))\n",
            "  File \"/usr/lib/python3.10/inspect.py\", line 1662, in getinnerframes\n",
            "    frameinfo = (tb.tb_frame,) + getframeinfo(tb, context)\n",
            "  File \"/usr/lib/python3.10/inspect.py\", line 1620, in getframeinfo\n",
            "    filename = getsourcefile(frame) or getfile(frame)\n",
            "  File \"/usr/lib/python3.10/inspect.py\", line 829, in getsourcefile\n",
            "    module = getmodule(object, filename)\n",
            "  File \"/usr/lib/python3.10/inspect.py\", line 861, in getmodule\n",
            "    file = getabsfile(object, _filename)\n",
            "  File \"/usr/lib/python3.10/inspect.py\", line 845, in getabsfile\n",
            "    return os.path.normcase(os.path.abspath(_filename))\n",
            "  File \"/usr/lib/python3.10/posixpath.py\", line 384, in abspath\n",
            "    cwd = os.getcwd()\n",
            "OSError: [Errno 107] Transport endpoint is not connected\n",
            "Traceback (most recent call last):\n",
            "  File \"/usr/local/lib/python3.10/dist-packages/IPython/core/interactiveshell.py\", line 3553, in run_code\n",
            "    exec(code_obj, self.user_global_ns, self.user_ns)\n",
            "  File \"<ipython-input-52-5361102ac30e>\", line 17, in <cell line: 8>\n",
            "    hindi_predictions = transformer(english_batch,\n",
            "  File \"/usr/local/lib/python3.10/dist-packages/torch/nn/modules/module.py\", line 1501, in _call_impl\n",
            "    return forward_call(*args, **kwargs)\n",
            "  File \"<ipython-input-27-2e6567a33e02>\", line 357, in forward\n",
            "    out = self.decoder(x, y, decoder_self_attention_mask, decoder_cross_attention_mask, start_token=dec_start_token, end_token=dec_end_token)\n",
            "  File \"/usr/local/lib/python3.10/dist-packages/torch/nn/modules/module.py\", line 1501, in _call_impl\n",
            "    return forward_call(*args, **kwargs)\n",
            "  File \"<ipython-input-27-2e6567a33e02>\", line 315, in forward\n",
            "    y = self.sentence_embedding(y, start_token, end_token)\n",
            "  File \"/usr/local/lib/python3.10/dist-packages/torch/nn/modules/module.py\", line 1501, in _call_impl\n",
            "    return forward_call(*args, **kwargs)\n",
            "  File \"<ipython-input-27-2e6567a33e02>\", line 85, in forward\n",
            "    x = self.batch_tokenize(x, start_token, end_token)\n",
            "  File \"<ipython-input-27-2e6567a33e02>\", line 82, in batch_tokenize\n",
            "    return tokenized.to(get_device())\n",
            "KeyboardInterrupt\n",
            "\n",
            "During handling of the above exception, another exception occurred:\n",
            "\n",
            "Traceback (most recent call last):\n",
            "  File \"/usr/local/lib/python3.10/dist-packages/IPython/core/interactiveshell.py\", line 2099, in showtraceback\n",
            "    stb = value._render_traceback_()\n",
            "AttributeError: 'KeyboardInterrupt' object has no attribute '_render_traceback_'\n",
            "\n",
            "During handling of the above exception, another exception occurred:\n",
            "\n",
            "Traceback (most recent call last):\n",
            "  File \"/usr/local/lib/python3.10/dist-packages/IPython/core/interactiveshell.py\", line 3473, in run_ast_nodes\n",
            "    if (await self.run_code(code, result,  async_=asy)):\n",
            "  File \"/usr/local/lib/python3.10/dist-packages/IPython/core/interactiveshell.py\", line 3575, in run_code\n",
            "    self.showtraceback(running_compiled_code=True)\n",
            "  File \"/usr/local/lib/python3.10/dist-packages/IPython/core/interactiveshell.py\", line 2101, in showtraceback\n",
            "    stb = self.InteractiveTB.structured_traceback(etype,\n",
            "  File \"/usr/local/lib/python3.10/dist-packages/IPython/core/ultratb.py\", line 1367, in structured_traceback\n",
            "    return FormattedTB.structured_traceback(\n",
            "  File \"/usr/local/lib/python3.10/dist-packages/IPython/core/ultratb.py\", line 1267, in structured_traceback\n",
            "    return VerboseTB.structured_traceback(\n",
            "  File \"/usr/local/lib/python3.10/dist-packages/IPython/core/ultratb.py\", line 1124, in structured_traceback\n",
            "    formatted_exception = self.format_exception_as_a_whole(etype, evalue, etb, number_of_lines_of_context,\n",
            "  File \"/usr/local/lib/python3.10/dist-packages/IPython/core/ultratb.py\", line 1082, in format_exception_as_a_whole\n",
            "    last_unique, recursion_repeat = find_recursion(orig_etype, evalue, records)\n",
            "  File \"/usr/local/lib/python3.10/dist-packages/IPython/core/ultratb.py\", line 382, in find_recursion\n",
            "    return len(records), 0\n",
            "TypeError: object of type 'NoneType' has no len()\n",
            "\n",
            "During handling of the above exception, another exception occurred:\n",
            "\n",
            "Traceback (most recent call last):\n",
            "  File \"/usr/local/lib/python3.10/dist-packages/IPython/core/interactiveshell.py\", line 2099, in showtraceback\n",
            "    stb = value._render_traceback_()\n",
            "AttributeError: 'TypeError' object has no attribute '_render_traceback_'\n",
            "\n",
            "During handling of the above exception, another exception occurred:\n",
            "\n",
            "Traceback (most recent call last):\n",
            "  File \"/usr/local/lib/python3.10/dist-packages/IPython/core/interactiveshell.py\", line 3030, in _run_cell\n",
            "    return runner(coro)\n",
            "  File \"/usr/local/lib/python3.10/dist-packages/IPython/core/async_helpers.py\", line 78, in _pseudo_sync_runner\n",
            "    coro.send(None)\n",
            "  File \"/usr/local/lib/python3.10/dist-packages/IPython/core/interactiveshell.py\", line 3257, in run_cell_async\n",
            "    has_raised = await self.run_ast_nodes(code_ast.body, cell_name,\n",
            "  File \"/usr/local/lib/python3.10/dist-packages/IPython/core/interactiveshell.py\", line 3492, in run_ast_nodes\n",
            "    self.showtraceback()\n",
            "  File \"/usr/local/lib/python3.10/dist-packages/IPython/core/interactiveshell.py\", line 2101, in showtraceback\n",
            "    stb = self.InteractiveTB.structured_traceback(etype,\n",
            "  File \"/usr/local/lib/python3.10/dist-packages/IPython/core/ultratb.py\", line 1367, in structured_traceback\n",
            "    return FormattedTB.structured_traceback(\n",
            "  File \"/usr/local/lib/python3.10/dist-packages/IPython/core/ultratb.py\", line 1267, in structured_traceback\n",
            "    return VerboseTB.structured_traceback(\n",
            "  File \"/usr/local/lib/python3.10/dist-packages/IPython/core/ultratb.py\", line 1142, in structured_traceback\n",
            "    formatted_exceptions += self.format_exception_as_a_whole(etype, evalue, etb, lines_of_context,\n",
            "  File \"/usr/local/lib/python3.10/dist-packages/IPython/core/ultratb.py\", line 1082, in format_exception_as_a_whole\n",
            "    last_unique, recursion_repeat = find_recursion(orig_etype, evalue, records)\n",
            "  File \"/usr/local/lib/python3.10/dist-packages/IPython/core/ultratb.py\", line 382, in find_recursion\n",
            "    return len(records), 0\n",
            "TypeError: object of type 'NoneType' has no len()\n",
            "\n",
            "During handling of the above exception, another exception occurred:\n",
            "\n",
            "Traceback (most recent call last):\n",
            "  File \"/usr/local/lib/python3.10/dist-packages/IPython/core/interactiveshell.py\", line 2099, in showtraceback\n",
            "    stb = value._render_traceback_()\n",
            "AttributeError: 'TypeError' object has no attribute '_render_traceback_'\n",
            "\n",
            "During handling of the above exception, another exception occurred:\n",
            "\n",
            "Traceback (most recent call last):\n",
            "  File \"/usr/local/lib/python3.10/dist-packages/IPython/core/ultratb.py\", line 1101, in get_records\n",
            "    return _fixed_getinnerframes(etb, number_of_lines_of_context, tb_offset)\n",
            "  File \"/usr/local/lib/python3.10/dist-packages/IPython/core/ultratb.py\", line 248, in wrapped\n",
            "    return f(*args, **kwargs)\n",
            "  File \"/usr/local/lib/python3.10/dist-packages/IPython/core/ultratb.py\", line 281, in _fixed_getinnerframes\n",
            "    records = fix_frame_records_filenames(inspect.getinnerframes(etb, context))\n",
            "  File \"/usr/lib/python3.10/inspect.py\", line 1662, in getinnerframes\n",
            "    frameinfo = (tb.tb_frame,) + getframeinfo(tb, context)\n",
            "  File \"/usr/lib/python3.10/inspect.py\", line 1620, in getframeinfo\n",
            "    filename = getsourcefile(frame) or getfile(frame)\n",
            "  File \"/usr/lib/python3.10/inspect.py\", line 829, in getsourcefile\n",
            "    module = getmodule(object, filename)\n",
            "  File \"/usr/lib/python3.10/inspect.py\", line 861, in getmodule\n",
            "    file = getabsfile(object, _filename)\n",
            "  File \"/usr/lib/python3.10/inspect.py\", line 845, in getabsfile\n",
            "    return os.path.normcase(os.path.abspath(_filename))\n",
            "  File \"/usr/lib/python3.10/posixpath.py\", line 384, in abspath\n",
            "    cwd = os.getcwd()\n",
            "OSError: [Errno 107] Transport endpoint is not connected\n"
          ]
        }
      ],
      "source": [
        "transformer.train()\n",
        "transformer.to(device)\n",
        "total_loss = 0\n",
        "num_epochs = 10\n",
        "#after first 10 epochs loss was 1.5720851421356201\n",
        "#after next  10 epoch loss was 1.4178\n",
        "#1.3040\n",
        "for epoch in range(num_epochs):\n",
        "    print(f\"Epoch {epoch}\")\n",
        "    iterator = iter(train_loader)\n",
        "    for batch_num, batch in enumerate(iterator):\n",
        "        transformer.train()\n",
        "        hindi_batch, english_batch = batch\n",
        "        #print(hindi_batch)\n",
        "        encoder_self_attention_mask, decoder_self_attention_mask, decoder_cross_attention_mask = create_masks(english_batch, hindi_batch)\n",
        "        optim.zero_grad()\n",
        "        hindi_predictions = transformer(english_batch,\n",
        "                                     hindi_batch,\n",
        "                                     encoder_self_attention_mask.to(device),\n",
        "                                     decoder_self_attention_mask.to(device),\n",
        "                                     decoder_cross_attention_mask.to(device),\n",
        "                                     enc_start_token=False,\n",
        "                                     enc_end_token=False,\n",
        "                                     dec_start_token=True,\n",
        "                                     dec_end_token=True)\n",
        "        labels = transformer.decoder.sentence_embedding.batch_tokenize(hindi_batch, start_token=False, end_token=True)\n",
        "        loss = criterian(\n",
        "            hindi_predictions.view(-1, hindi_vocab_size).to(device),\n",
        "            labels.view(-1).to(device)\n",
        "        ).to(device)\n",
        "        valid_indicies = torch.where(labels.view(-1) == hindi_to_idx[PADDING_TOKEN], False, True)\n",
        "        loss = loss.sum() / valid_indicies.sum()\n",
        "        loss.backward()\n",
        "        optim.step()\n",
        "        #train_losses.append(loss.item())\n",
        "        if batch_num % 300 == 0:\n",
        "            print(f\"Iteration {batch_num} : {loss.item()}\")\n",
        "            print(f\"English: {english_batch[0]}\")\n",
        "            print(f\"Hindi Translation: {hindi_batch[0].replace('<pad>','')}\")\n",
        "            hindi_sentence_predicted = torch.argmax(hindi_predictions[0], axis=1)\n",
        "            predicted_sentence = \"\"\n",
        "            for idx in hindi_sentence_predicted:\n",
        "              if idx == hindi_to_idx[END_TOKEN]:\n",
        "                break\n",
        "              predicted_sentence += idx_to_hindi[idx.item()]\n",
        "            print(f\"Hindi Prediction: {predicted_sentence}\")\n",
        "            transformer.eval()\n",
        "            hindi_sentence = (\"\",)\n",
        "            eng_sentence = (\"should we go to the mall?\",)\n",
        "            for word_counter in range(max_sequence_length):\n",
        "                encoder_self_attention_mask, decoder_self_attention_mask, decoder_cross_attention_mask= create_masks(eng_sentence, hindi_sentence)\n",
        "                predictions = transformer(eng_sentence,\n",
        "                                          hindi_sentence,\n",
        "                                          encoder_self_attention_mask.to(device),\n",
        "                                          decoder_self_attention_mask.to(device),\n",
        "                                          decoder_cross_attention_mask.to(device),\n",
        "                                          enc_start_token=False,\n",
        "                                          enc_end_token=False,\n",
        "                                          dec_start_token=True,\n",
        "                                          dec_end_token=False)\n",
        "                next_token_prob_distribution = predictions[0][word_counter] # not actual probs\n",
        "                next_token_index = torch.argmax(next_token_prob_distribution).item()\n",
        "                next_token = idx_to_hindi[next_token_index]\n",
        "                hindi_sentence = (hindi_sentence[0] + next_token, )\n",
        "                if next_token == END_TOKEN:\n",
        "                  break\n",
        "\n",
        "            print(f\"Evaluation translation (should we go to the mall?) : {hindi_sentence}\")\n",
        "            print(\"-------------------------------------------\")"
      ]
    },
    {
      "cell_type": "code",
      "execution_count": null,
      "metadata": {
        "id": "SXSaAMo88dky"
      },
      "outputs": [],
      "source": [
        "torch.save({'model_state_dict': transformer.state_dict(),\n",
        "            'optimizer_state_dict': optim.state_dict(),\n",
        "            'loss':loss}, '/content/drive/MyDrive/Transformer_from_scratch/model.pth')\n"
      ]
    },
    {
      "cell_type": "code",
      "execution_count": null,
      "metadata": {
        "colab": {
          "base_uri": "https://localhost:8080/"
        },
        "id": "YmdQNd1Kpfg5",
        "outputId": "90feb224-23a2-4a05-b05c-695178f42097"
      },
      "outputs": [
        {
          "data": {
            "text/plain": [
              "tensor(1.3040, device='cuda:0', grad_fn=<DivBackward0>)"
            ]
          },
          "execution_count": 51,
          "metadata": {},
          "output_type": "execute_result"
        }
      ],
      "source": [
        "#model loading stef\n",
        "# model = MyModelDefinition(args)\n",
        "# optimizer = optim.SGD(model.parameters(), lr=0.001, momentum=0.9)\n",
        "\n",
        "\n",
        "# checkpoint = torch.load('load/from/path/model.pth')\n",
        "# model.load_state_dict(checkpoint['model_state_dict'])\n",
        "# optimizer.load_state_dict(checkpoint['optimizer_state_dict'])\n",
        "# epoch = checkpoint['epoch']\n",
        "# loss = checkpoint['loss']\n",
        "loss"
      ]
    },
    {
      "cell_type": "code",
      "execution_count": null,
      "metadata": {
        "id": "yw2iQn00qA9y"
      },
      "outputs": [],
      "source": []
    }
  ],
  "metadata": {
    "accelerator": "GPU",
    "colab": {
      "provenance": [],
      "include_colab_link": true
    },
    "kernelspec": {
      "display_name": "Python 3",
      "name": "python3"
    },
    "language_info": {
      "name": "python"
    }
  },
  "nbformat": 4,
  "nbformat_minor": 0
}